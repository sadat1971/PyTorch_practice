{
  "nbformat": 4,
  "nbformat_minor": 0,
  "metadata": {
    "colab": {
      "name": "001_torch_basic_operation.ipynb",
      "provenance": [],
      "authorship_tag": "ABX9TyPNCyWd4Rh89PECz3jp5rfH",
      "include_colab_link": true
    },
    "kernelspec": {
      "name": "python3",
      "display_name": "Python 3"
    },
    "accelerator": "GPU"
  },
  "cells": [
    {
      "cell_type": "markdown",
      "metadata": {
        "id": "view-in-github",
        "colab_type": "text"
      },
      "source": [
        "<a href=\"https://colab.research.google.com/github/sadat1971/PyTorch_practice/blob/main/001_torch_basic_operation.ipynb\" target=\"_parent\"><img src=\"https://colab.research.google.com/assets/colab-badge.svg\" alt=\"Open In Colab\"/></a>"
      ]
    },
    {
      "cell_type": "markdown",
      "metadata": {
        "id": "2iwDwBPUwy3l"
      },
      "source": [
        "# Basic Operations on PyTorch"
      ]
    },
    {
      "cell_type": "markdown",
      "metadata": {
        "id": "-RL8J1rBw5vT"
      },
      "source": [
        "This Notebook contains the basic operations on pytorch as inspired by https://pytorch.org/tutorials/beginner/blitz/tensor_tutorial.html#sphx-glr-beginner-blitz-tensor-tutorial-py"
      ]
    },
    {
      "cell_type": "code",
      "metadata": {
        "id": "zre6eOiXwyNi"
      },
      "source": [
        "import torch\n",
        "import numpy as np\n",
        "from __future__ import print_function"
      ],
      "execution_count": 2,
      "outputs": []
    },
    {
      "cell_type": "markdown",
      "metadata": {
        "id": "IzxZ4hb3xQLc"
      },
      "source": [
        "## torch.empty\n",
        "An uninitialized matrix is declared, but does not contain definite known values before it is used. When an uninitialized matrix is created, whatever values were in the allocated memory at the time will appear as the initial values."
      ]
    },
    {
      "cell_type": "code",
      "metadata": {
        "id": "iofIO-WSw5TF",
        "outputId": "1d5a86be-dce1-498e-e178-ab4393d23c61",
        "colab": {
          "base_uri": "https://localhost:8080/"
        }
      },
      "source": [
        "torch.empty(size=(2,3))"
      ],
      "execution_count": 3,
      "outputs": [
        {
          "output_type": "execute_result",
          "data": {
            "text/plain": [
              "tensor([[3.6461e-36, 0.0000e+00, 3.3631e-44],\n",
              "        [0.0000e+00,        nan, 0.0000e+00]])"
            ]
          },
          "metadata": {
            "tags": []
          },
          "execution_count": 3
        }
      ]
    },
    {
      "cell_type": "markdown",
      "metadata": {
        "id": "Q9LiLCAaxlIN"
      },
      "source": [
        "## torch.rand\n",
        "The randomly initialized tensor in pytorch. The output is an uniform distribution between 0 and 1"
      ]
    },
    {
      "cell_type": "code",
      "metadata": {
        "id": "V44iJTBMxA6K",
        "outputId": "5df09ab9-f50c-4693-d527-41d7893cf0ba",
        "colab": {
          "base_uri": "https://localhost:8080/"
        }
      },
      "source": [
        "X= torch.rand(size=(2,3))\n",
        "print(\"A random torch tensor\", X)\n",
        "print(\"The shape of X is \", X.shape)"
      ],
      "execution_count": 4,
      "outputs": [
        {
          "output_type": "stream",
          "text": [
            "A random torch tensor tensor([[0.7235, 0.4596, 0.1239],\n",
            "        [0.0179, 0.4553, 0.4465]])\n",
            "The shape of X is  torch.Size([2, 3])\n"
          ],
          "name": "stdout"
        }
      ]
    },
    {
      "cell_type": "markdown",
      "metadata": {
        "id": "PprYAZV-ycO1"
      },
      "source": [
        "## torch.tensor\n",
        "Creating a tensor"
      ]
    },
    {
      "cell_type": "code",
      "metadata": {
        "id": "RF3_u_3kxwiU",
        "outputId": "da40b535-a030-4b08-b8a5-ebc2423b4fad",
        "colab": {
          "base_uri": "https://localhost:8080/"
        }
      },
      "source": [
        "T_1_D = torch.tensor([2,4,6,7]) #1-D tensor\n",
        "T_2_D = torch.tensor([[1, 2, 3],[9, 4, 5]]) #2-D tensor \n",
        "print(\"The shape of T_1_D is\", T_1_D.shape)\n",
        "print(\"The shape of T_2_D is\", T_2_D.shape)"
      ],
      "execution_count": 5,
      "outputs": [
        {
          "output_type": "stream",
          "text": [
            "The shape of T_1_D is torch.Size([4])\n",
            "The shape of T_2_D is torch.Size([2, 3])\n"
          ],
          "name": "stdout"
        }
      ]
    },
    {
      "cell_type": "markdown",
      "metadata": {
        "id": "odot9z0G0UhZ"
      },
      "source": [
        "# Tensor Based on Existing Tensor\n",
        "\n",
        "Tensors can be built based on an existing tensor. In that process we can copy the dtype and decvice use (CPU or GPU) of an existing tensor"
      ]
    },
    {
      "cell_type": "code",
      "metadata": {
        "id": "aqTWsFus0PHJ",
        "outputId": "a76bda3b-aef0-497e-b62d-1a642cb8f9bc",
        "colab": {
          "base_uri": "https://localhost:8080/"
        }
      },
      "source": [
        "A = torch.tensor([[2, 3.99, 8], [34, 0.008, -1]])\n",
        "print(\"Data Type of A is\", A.dtype)\n",
        "B = A.new_tensor([2,11,.0009])\n",
        "print(\"Data Type of B is\", B.dtype)\n",
        "print(B)\n",
        "C = A.new_ones(4, 9)\n",
        "print(C)\n",
        "print(\"Data Type of C is\", C.dtype)\n",
        "# we can also override \n",
        "D = A.new_full(size=(2,4), fill_value=7, dtype=torch.int32)\n",
        "print(\"The tensor D is\", D)\n",
        "print(\"Data Type of D is\", D.dtype)"
      ],
      "execution_count": 6,
      "outputs": [
        {
          "output_type": "stream",
          "text": [
            "Data Type of A is torch.float32\n",
            "Data Type of B is torch.float32\n",
            "tensor([2.0000e+00, 1.1000e+01, 9.0000e-04])\n",
            "tensor([[1., 1., 1., 1., 1., 1., 1., 1., 1.],\n",
            "        [1., 1., 1., 1., 1., 1., 1., 1., 1.],\n",
            "        [1., 1., 1., 1., 1., 1., 1., 1., 1.],\n",
            "        [1., 1., 1., 1., 1., 1., 1., 1., 1.]])\n",
            "Data Type of C is torch.float32\n",
            "The tensor D is tensor([[7, 7, 7, 7],\n",
            "        [7, 7, 7, 7]], dtype=torch.int32)\n",
            "Data Type of D is torch.int32\n"
          ],
          "name": "stdout"
        }
      ]
    },
    {
      "cell_type": "code",
      "metadata": {
        "id": "MTCu5j2MyE2E",
        "outputId": "9e095f1a-764f-40b2-b064-5466f1daf4d9",
        "colab": {
          "base_uri": "https://localhost:8080/"
        }
      },
      "source": [
        "# We can also make a random tensor based on the existing one\n",
        "torch.randn_like(D, dtype=torch.float32) "
      ],
      "execution_count": 7,
      "outputs": [
        {
          "output_type": "execute_result",
          "data": {
            "text/plain": [
              "tensor([[-0.5032,  0.2559, -1.0338, -1.1947],\n",
              "        [-0.6212, -1.2323,  0.4886, -0.4685]])"
            ]
          },
          "metadata": {
            "tags": []
          },
          "execution_count": 7
        }
      ]
    },
    {
      "cell_type": "code",
      "metadata": {
        "id": "7f9o0yVUz5jp",
        "outputId": "922b3374-03fe-4be5-8086-1bae0c3d3d41",
        "colab": {
          "base_uri": "https://localhost:8080/"
        }
      },
      "source": [
        "X.size()"
      ],
      "execution_count": 9,
      "outputs": [
        {
          "output_type": "execute_result",
          "data": {
            "text/plain": [
              "torch.Size([2, 3])"
            ]
          },
          "metadata": {
            "tags": []
          },
          "execution_count": 9
        }
      ]
    },
    {
      "cell_type": "markdown",
      "metadata": {
        "id": "hFbUNzSyASwh"
      },
      "source": [
        "# Tensor addition"
      ]
    },
    {
      "cell_type": "code",
      "metadata": {
        "id": "hnmVCrHvz8xJ",
        "outputId": "46457e6a-7da3-49df-9046-0aebbc015668",
        "colab": {
          "base_uri": "https://localhost:8080/"
        }
      },
      "source": [
        "X = torch.tensor([[2, 7, 9],[1, 4, 5]])\n",
        "Y = torch.tensor([[20, 70, 90],[10, 40, 50]])\n",
        "\n",
        "#method 1:\n",
        "Z = X + Y\n",
        "print(Z)"
      ],
      "execution_count": 10,
      "outputs": [
        {
          "output_type": "stream",
          "text": [
            "tensor([[22, 77, 99],\n",
            "        [11, 44, 55]])\n"
          ],
          "name": "stdout"
        }
      ]
    },
    {
      "cell_type": "code",
      "metadata": {
        "id": "EMg656gtA598",
        "outputId": "a07ba46e-5838-4e4e-f565-715cad4f3947",
        "colab": {
          "base_uri": "https://localhost:8080/"
        }
      },
      "source": [
        "#method 2\n",
        "torch.add(X, Y)"
      ],
      "execution_count": 11,
      "outputs": [
        {
          "output_type": "execute_result",
          "data": {
            "text/plain": [
              "tensor([[22, 77, 99],\n",
              "        [11, 44, 55]])"
            ]
          },
          "metadata": {
            "tags": []
          },
          "execution_count": 11
        }
      ]
    },
    {
      "cell_type": "code",
      "metadata": {
        "id": "qOBWomdbA_Gc",
        "outputId": "207f57f5-5f35-4163-c334-c0f7d082aa23",
        "colab": {
          "base_uri": "https://localhost:8080/"
        }
      },
      "source": [
        "# method 3\n",
        "\n",
        "#create an empty tensor\n",
        "rslt = torch.empty_like(X)\n",
        "whatever_you_put_in_here = torch.add(X, Y, out=rslt)\n",
        "print(rslt)"
      ],
      "execution_count": 12,
      "outputs": [
        {
          "output_type": "stream",
          "text": [
            "tensor([[22, 77, 99],\n",
            "        [11, 44, 55]])\n"
          ],
          "name": "stdout"
        }
      ]
    },
    {
      "cell_type": "code",
      "metadata": {
        "id": "FCf-7k-hBbIV",
        "outputId": "2d1a6f5d-bd44-4ac5-efb7-8a4f70788017",
        "colab": {
          "base_uri": "https://localhost:8080/"
        }
      },
      "source": [
        "# method 4\n",
        "\n",
        "#addition in place: This operation adds the tensor at out with the tensor inside the brace and update the tensor at out\n",
        "Y.add_(X)\n",
        "Y"
      ],
      "execution_count": 13,
      "outputs": [
        {
          "output_type": "execute_result",
          "data": {
            "text/plain": [
              "tensor([[22, 77, 99],\n",
              "        [11, 44, 55]])"
            ]
          },
          "metadata": {
            "tags": []
          },
          "execution_count": 13
        }
      ]
    },
    {
      "cell_type": "markdown",
      "metadata": {
        "id": "3cKGx6t1DiYM"
      },
      "source": [
        "# Additional features:\n",
        "\n",
        "1. To multiply 2 tensors: <b>torch.mm(X, Y)</b>\n",
        "2. To convert from numpy to torch tensor: <b>torch.from_numpy(numpy_array)</b>\n"
      ]
    },
    {
      "cell_type": "code",
      "metadata": {
        "id": "iTY5gWLkDhD2"
      },
      "source": [
        ""
      ],
      "execution_count": null,
      "outputs": []
    },
    {
      "cell_type": "code",
      "metadata": {
        "id": "Z4gT78V4CBpE",
        "outputId": "b8f04bdb-24c8-41b9-d20a-521fa66baf7f",
        "colab": {
          "base_uri": "https://localhost:8080/"
        }
      },
      "source": [
        "# let us run this cell only if CUDA is available\n",
        "# We will use ``torch.device`` objects to move tensors in and out of GPU\n",
        "if torch.cuda.is_available():\n",
        "    device = torch.device(\"cuda\")          # a CUDA device object\n",
        "    Y = torch.ones_like(X, device=device)  # directly create a tensor on GPU\n",
        "    X = X.to(device)                       # or just use strings ``.to(\"cuda\")``\n",
        "    z = X + Y\n",
        "    print(z)\n",
        "    print(z.to(\"cpu\", torch.double))       # ``.to`` can also change dtype together!"
      ],
      "execution_count": 15,
      "outputs": [
        {
          "output_type": "stream",
          "text": [
            "tensor([[ 3,  8, 10],\n",
            "        [ 2,  5,  6]], device='cuda:0')\n",
            "tensor([[ 3.,  8., 10.],\n",
            "        [ 2.,  5.,  6.]], dtype=torch.float64)\n"
          ],
          "name": "stdout"
        }
      ]
    },
    {
      "cell_type": "code",
      "metadata": {
        "id": "muNXxFN5CnlR"
      },
      "source": [
        ""
      ],
      "execution_count": 14,
      "outputs": []
    }
  ]
}