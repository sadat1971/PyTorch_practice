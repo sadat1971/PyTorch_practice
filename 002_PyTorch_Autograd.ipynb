{
  "nbformat": 4,
  "nbformat_minor": 0,
  "metadata": {
    "colab": {
      "name": "002_PyTorch_Autograd.ipynb",
      "provenance": [],
      "authorship_tag": "ABX9TyMpohtOUORnH5012poc2xDy",
      "include_colab_link": true
    },
    "kernelspec": {
      "name": "python3",
      "display_name": "Python 3"
    }
  },
  "cells": [
    {
      "cell_type": "markdown",
      "metadata": {
        "id": "view-in-github",
        "colab_type": "text"
      },
      "source": [
        "<a href=\"https://colab.research.google.com/github/sadat1971/PyTorch_practice/blob/main/002_PyTorch_Autograd.ipynb\" target=\"_parent\"><img src=\"https://colab.research.google.com/assets/colab-badge.svg\" alt=\"Open In Colab\"/></a>"
      ]
    },
    {
      "cell_type": "markdown",
      "metadata": {
        "id": "13A6Fx8mwjLA"
      },
      "source": [
        "# Autograd: Automatic Differentiation of Tensor"
      ]
    },
    {
      "cell_type": "code",
      "metadata": {
        "id": "iCSVWAQywTnY"
      },
      "source": [
        "import torch \n",
        "import numpy as np"
      ],
      "execution_count": 1,
      "outputs": []
    },
    {
      "cell_type": "code",
      "metadata": {
        "id": "5fwlwmPtw38G",
        "outputId": "f45b9633-1338-4b52-ce7b-9ea8d8132734",
        "colab": {
          "base_uri": "https://localhost:8080/"
        }
      },
      "source": [
        "X = torch.tensor(4., requires_grad=True)  #define the variable with the value you want the differentiation in \n",
        "Y = X**2 # Define Y as a function of X\n",
        "Y.backward() #Perform the differentiation\n",
        "X.grad #What you will obtain after differentiation"
      ],
      "execution_count": 5,
      "outputs": [
        {
          "output_type": "execute_result",
          "data": {
            "text/plain": [
              "tensor(8.)"
            ]
          },
          "metadata": {
            "tags": []
          },
          "execution_count": 5
        }
      ]
    },
    {
      "cell_type": "code",
      "metadata": {
        "id": "sQ7OcShTxA0Y",
        "outputId": "e8daed0e-f95f-4046-a147-2848500e43c9",
        "colab": {
          "base_uri": "https://localhost:8080/"
        }
      },
      "source": [
        "X = torch.ones((4,4), requires_grad=True)\n",
        "X"
      ],
      "execution_count": 6,
      "outputs": [
        {
          "output_type": "execute_result",
          "data": {
            "text/plain": [
              "tensor([[1., 1., 1., 1.],\n",
              "        [1., 1., 1., 1.],\n",
              "        [1., 1., 1., 1.],\n",
              "        [1., 1., 1., 1.]], requires_grad=True)"
            ]
          },
          "metadata": {
            "tags": []
          },
          "execution_count": 6
        }
      ]
    },
    {
      "cell_type": "code",
      "metadata": {
        "id": "AozKASH-xI7W",
        "outputId": "eb827c67-a08b-48b2-8171-3aac7b1ef004",
        "colab": {
          "base_uri": "https://localhost:8080/"
        }
      },
      "source": [
        "Y = 3*X + 4\n",
        "Y"
      ],
      "execution_count": 7,
      "outputs": [
        {
          "output_type": "execute_result",
          "data": {
            "text/plain": [
              "tensor([[7., 7., 7., 7.],\n",
              "        [7., 7., 7., 7.],\n",
              "        [7., 7., 7., 7.],\n",
              "        [7., 7., 7., 7.]], grad_fn=<AddBackward0>)"
            ]
          },
          "metadata": {
            "tags": []
          },
          "execution_count": 7
        }
      ]
    },
    {
      "cell_type": "code",
      "metadata": {
        "id": "rToNJsh603CG",
        "outputId": "780d65c1-860b-4c53-9712-ca55229f72ca",
        "colab": {
          "base_uri": "https://localhost:8080/"
        }
      },
      "source": [
        "print(X.grad_fn) # X wasnot created as a result of an operation, so it has no grad_fn\n",
        "print(Y.grad_fn) # Y was created as a result of an operation, so it has a grad_fn"
      ],
      "execution_count": 10,
      "outputs": [
        {
          "output_type": "stream",
          "text": [
            "None\n",
            "<AddBackward0 object at 0x7f1d6d169c50>\n"
          ],
          "name": "stdout"
        }
      ]
    },
    {
      "cell_type": "code",
      "metadata": {
        "id": "Vcyawiy207iU",
        "outputId": "973fd467-d690-476a-f00c-ef2679531cb0",
        "colab": {
          "base_uri": "https://localhost:8080/"
        }
      },
      "source": [
        "Y.mean()"
      ],
      "execution_count": 11,
      "outputs": [
        {
          "output_type": "execute_result",
          "data": {
            "text/plain": [
              "tensor(7., grad_fn=<MeanBackward0>)"
            ]
          },
          "metadata": {
            "tags": []
          },
          "execution_count": 11
        }
      ]
    },
    {
      "cell_type": "code",
      "metadata": {
        "id": "yA1bX6yJ1WZz",
        "outputId": "8d90fbe9-678b-4b60-c631-e55df709df44",
        "colab": {
          "base_uri": "https://localhost:8080/"
        }
      },
      "source": [
        "Y.requires_grad"
      ],
      "execution_count": 12,
      "outputs": [
        {
          "output_type": "execute_result",
          "data": {
            "text/plain": [
              "True"
            ]
          },
          "metadata": {
            "tags": []
          },
          "execution_count": 12
        }
      ]
    },
    {
      "cell_type": "code",
      "metadata": {
        "id": "eS9517eB1q54",
        "outputId": "ff7c3055-7d1c-45e1-ff97-cf068a88125c",
        "colab": {
          "base_uri": "https://localhost:8080/"
        }
      },
      "source": [
        "# Now, not all the time we need the gradient. Sometimes, the backtracking can be expensive\n",
        "Z = Y.detach()\n",
        "Z"
      ],
      "execution_count": 15,
      "outputs": [
        {
          "output_type": "execute_result",
          "data": {
            "text/plain": [
              "tensor([[7., 7., 7., 7.],\n",
              "        [7., 7., 7., 7.],\n",
              "        [7., 7., 7., 7.],\n",
              "        [7., 7., 7., 7.]])"
            ]
          },
          "metadata": {
            "tags": []
          },
          "execution_count": 15
        }
      ]
    },
    {
      "cell_type": "code",
      "metadata": {
        "id": "kLHa9eKc1tEQ",
        "outputId": "1e3047fb-16d4-418a-f64f-25a845e6a1c1",
        "colab": {
          "base_uri": "https://localhost:8080/"
        }
      },
      "source": [
        "# Another way is to use the with torch.no_grad()\n",
        "\n",
        "with torch.no_grad():\n",
        "  Y_prime = 3*X + 4 \n",
        "  print(Y_prime)"
      ],
      "execution_count": 22,
      "outputs": [
        {
          "output_type": "stream",
          "text": [
            "tensor([[7., 7., 7., 7.],\n",
            "        [7., 7., 7., 7.],\n",
            "        [7., 7., 7., 7.],\n",
            "        [7., 7., 7., 7.]], grad_fn=<AddBackward0>)\n",
            "tensor([[7., 7., 7., 7.],\n",
            "        [7., 7., 7., 7.],\n",
            "        [7., 7., 7., 7.],\n",
            "        [7., 7., 7., 7.]])\n"
          ],
          "name": "stdout"
        }
      ]
    },
    {
      "cell_type": "code",
      "metadata": {
        "id": "Rc0KpYwF3kOZ"
      },
      "source": [
        ""
      ],
      "execution_count": null,
      "outputs": []
    }
  ]
}